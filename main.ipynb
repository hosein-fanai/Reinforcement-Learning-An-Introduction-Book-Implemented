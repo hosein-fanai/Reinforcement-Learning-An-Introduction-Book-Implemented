{
 "cells": [
  {
   "cell_type": "code",
   "execution_count": 1,
   "metadata": {},
   "outputs": [],
   "source": [
    "from tic_tac_toe import TicTacToe\n",
    "\n",
    "from agent import Agent"
   ]
  },
  {
   "cell_type": "code",
   "execution_count": 2,
   "metadata": {},
   "outputs": [],
   "source": [
    "env = TicTacToe()\n",
    "agent = Agent()"
   ]
  },
  {
   "cell_type": "code",
   "execution_count": 3,
   "metadata": {},
   "outputs": [
    {
     "name": "stdout",
     "output_type": "stream",
     "text": [
      "Epoch: 100000, Epsilon: 0.0100, Rewards: 7.600000"
     ]
    }
   ],
   "source": [
    "agent.train(env, n_epochs=100_000, self_play_type=\"q_policy\")\n",
    "agent.save(\"./policies/policy (against itself).npy\")"
   ]
  },
  {
   "cell_type": "code",
   "execution_count": 4,
   "metadata": {},
   "outputs": [
    {
     "data": {
      "text/plain": [
       "array([[5.64523226, 5.37574195, 5.73362807, ..., 5.6219651 , 5.72930524,\n",
       "        5.50668703],\n",
       "       [5.29096875, 5.00273415, 5.48459652, ..., 6.16525635, 2.88201407,\n",
       "        5.50288801],\n",
       "       [0.        , 0.        , 0.        , ..., 0.        , 0.        ,\n",
       "        0.        ],\n",
       "       ...,\n",
       "       [0.        , 0.        , 0.        , ..., 0.        , 0.        ,\n",
       "        0.        ],\n",
       "       [0.        , 0.        , 0.        , ..., 0.        , 0.        ,\n",
       "        0.        ],\n",
       "       [0.        , 0.        , 0.        , ..., 0.        , 0.        ,\n",
       "        0.        ]])"
      ]
     },
     "execution_count": 4,
     "metadata": {},
     "output_type": "execute_result"
    }
   ],
   "source": [
    "agent.load(\"./policies/policy (against itself).npy\")\n",
    "agent.Q_table"
   ]
  },
  {
   "cell_type": "code",
   "execution_count": 5,
   "metadata": {},
   "outputs": [
    {
     "name": "stdout",
     "output_type": "stream",
     "text": [
      "_________________________\n",
      "|   X   |       |       |\n",
      "|_______|_______|_______|\n",
      "|       |       |       |\n",
      "|_______|_______|_______|\n",
      "|       |       |       |\n",
      "|_______|_______|_______|\n",
      "\n",
      "_________________________\n",
      "|   X   |       |   O   |\n",
      "|_______|_______|_______|\n",
      "|       |       |       |\n",
      "|_______|_______|_______|\n",
      "|       |       |       |\n",
      "|_______|_______|_______|\n",
      "\n",
      "_________________________\n",
      "|   X   |       |   O   |\n",
      "|_______|_______|_______|\n",
      "|       |       |       |\n",
      "|_______|_______|_______|\n",
      "|       |       |   X   |\n",
      "|_______|_______|_______|\n",
      "\n",
      "_________________________\n",
      "|   X   |       |   O   |\n",
      "|_______|_______|_______|\n",
      "|       |       |       |\n",
      "|_______|_______|_______|\n",
      "|   O   |       |   X   |\n",
      "|_______|_______|_______|\n",
      "\n",
      "_________________________\n",
      "|   X   |       |   O   |\n",
      "|_______|_______|_______|\n",
      "|       |   X   |       |\n",
      "|_______|_______|_______|\n",
      "|   O   |       |   X   |\n",
      "|_______|_______|_______|\n",
      "\n"
     ]
    }
   ],
   "source": [
    "env.play_against_opponent(opponent_policy_fn=agent.act_greedy_sampled)"
   ]
  }
 ],
 "metadata": {
  "kernelspec": {
   "display_name": "Python 3.10.10 ('tf_env')",
   "language": "python",
   "name": "python3"
  },
  "language_info": {
   "codemirror_mode": {
    "name": "ipython",
    "version": 3
   },
   "file_extension": ".py",
   "mimetype": "text/x-python",
   "name": "python",
   "nbconvert_exporter": "python",
   "pygments_lexer": "ipython3",
   "version": "3.10.10"
  },
  "orig_nbformat": 4,
  "vscode": {
   "interpreter": {
    "hash": "dd007ac3b45ff6a667b1025d767f59ded49e869e4dbd8cb641dd50277aed6055"
   }
  }
 },
 "nbformat": 4,
 "nbformat_minor": 2
}
